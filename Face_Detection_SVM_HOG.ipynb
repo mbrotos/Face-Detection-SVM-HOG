{
  "nbformat": 4,
  "nbformat_minor": 0,
  "metadata": {
    "colab": {
      "name": "Face-Detection-SVM-HOG.ipynb",
      "provenance": [],
      "authorship_tag": "ABX9TyPCnMFsvNb+xcyjn6EhFb0k",
      "include_colab_link": true
    },
    "kernelspec": {
      "name": "python3",
      "display_name": "Python 3"
    },
    "language_info": {
      "name": "python"
    }
  },
  "cells": [
    {
      "cell_type": "markdown",
      "metadata": {
        "id": "view-in-github",
        "colab_type": "text"
      },
      "source": [
        "<a href=\"https://colab.research.google.com/github/mbrotos/Face-Detection-SVM-HOG/blob/main/Face_Detection_SVM_HOG.ipynb\" target=\"_parent\"><img src=\"https://colab.research.google.com/assets/colab-badge.svg\" alt=\"Open In Colab\"/></a>"
      ]
    },
    {
      "cell_type": "code",
      "execution_count": null,
      "metadata": {
        "id": "s5TD7yuGWVjE"
      },
      "outputs": [],
      "source": [
        ""
      ]
    }
  ]
}